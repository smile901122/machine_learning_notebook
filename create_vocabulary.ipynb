{
 "cells": [
  {
   "cell_type": "markdown",
   "metadata": {},
   "source": [
    "## 创建词典"
   ]
  },
  {
   "cell_type": "code",
   "execution_count": 20,
   "metadata": {},
   "outputs": [],
   "source": [
    "from collections import OrderedDict\n",
    "import pickle\n",
    "import logging\n",
    "\n",
    "class Vocabulary:\n",
    "    def __init__(self):\n",
    "        self.word2id = OrderedDict()\n",
    "        self.id2word = OrderedDict()\n",
    "        self.logger = logging.getLogger('Vocabulary')\n",
    "        self.max_vocab_length = None\n",
    "        \n",
    "    def get_word2id(self):\n",
    "        return self.word2id\n",
    "    \n",
    "    def get_id2word(self):\n",
    "        return self.id2word\n",
    "    \n",
    "    def get_vocabulary_length(self):\n",
    "        return self.max_vocab_length\n",
    "        \n",
    "    def build_dictionary(self, data, max_vocab_length=None):\n",
    "        self.max_vocab_length = max_vocab_length\n",
    "        word_count = {}\n",
    "        for item in data:\n",
    "            if word_count.get(item):\n",
    "                word_count[item] += 1\n",
    "            else:\n",
    "                word_count[item] = 1\n",
    "        # 按照 value 排序, 倒序\n",
    "        sorted_words = sorted(list(word_count.keys()), key=lambda x: word_count[x], reverse=True)\n",
    "        # 如果有长度限制\n",
    "        if max_vocab_length:\n",
    "            sorted_words = sorted_words[:max_vocab_length - 2]\n",
    "        \n",
    "        self.word2id['[PAD]'] = 0\n",
    "        self.word2id['[UNK]'] = 1\n",
    "        for index, word in enumerate(sorted_words):\n",
    "            self.word2id[word] = index + 2\n",
    "            \n",
    "        for word, index in self.word2id.items():\n",
    "            self.id2word[index] = word\n",
    "            \n",
    "        self.logger.info('build dictionary SUCCESS')\n",
    "    \n",
    "    def save_dictionary(self, dict_file):\n",
    "        with open(dict_file, 'wb') as f:\n",
    "            pickle.dump(self.word2id, f)\n",
    "            \n",
    "        self.logger.info('save dictionary SUCCESS')\n",
    "    \n",
    "    def load_dictionary(self, dict_file):\n",
    "        with open(dict_file, 'rb') as f:\n",
    "            self.word2id = pickle.load(f)\n",
    "        \n",
    "        self.max_vocab_length = len(self.word2id)\n",
    "        \n",
    "        for word, index in self.word2id.items():\n",
    "            self.id2word[index] = word\n",
    "            \n",
    "        self.logger.info('load dictionary SUCCESS')\n",
    "        "
   ]
  },
  {
   "cell_type": "code",
   "execution_count": 21,
   "metadata": {},
   "outputs": [],
   "source": [
    "data = ['hello', 'world', 'happy', 'hello', 'i', 'you', 'world']\n",
    "\n",
    "vocab = Vocabulary()\n",
    "vocab.build_dictionary(data, 3)\n",
    "vocab.save_dictionary('test.pkl')"
   ]
  },
  {
   "cell_type": "code",
   "execution_count": 22,
   "metadata": {},
   "outputs": [
    {
     "name": "stdout",
     "output_type": "stream",
     "text": [
      "OrderedDict([(0, '[PAD]'), (1, '[UNK]'), (2, 'hello')])\n",
      "OrderedDict([('[PAD]', 0), ('[UNK]', 1), ('hello', 2)])\n"
     ]
    }
   ],
   "source": [
    "print(vocab.id2word)\n",
    "print(vocab.word2id)"
   ]
  },
  {
   "cell_type": "code",
   "execution_count": 23,
   "metadata": {},
   "outputs": [
    {
     "name": "stdout",
     "output_type": "stream",
     "text": [
      "3\n",
      "OrderedDict([('[PAD]', 0), ('[UNK]', 1), ('hello', 2)])\n",
      "OrderedDict([(0, '[PAD]'), (1, '[UNK]'), (2, 'hello')])\n"
     ]
    }
   ],
   "source": [
    "vocab2 = Vocabulary()\n",
    "vocab2.load_dictionary('test.pkl')\n",
    "print(vocab2.get_vocabulary_length())\n",
    "print(vocab2.get_word2id())\n",
    "print(vocab2.get_id2word())"
   ]
  },
  {
   "cell_type": "code",
   "execution_count": null,
   "metadata": {},
   "outputs": [],
   "source": []
  }
 ],
 "metadata": {
  "kernelspec": {
   "display_name": "Python 3",
   "language": "python",
   "name": "python3"
  },
  "language_info": {
   "codemirror_mode": {
    "name": "ipython",
    "version": 3
   },
   "file_extension": ".py",
   "mimetype": "text/x-python",
   "name": "python",
   "nbconvert_exporter": "python",
   "pygments_lexer": "ipython3",
   "version": "3.7.3"
  }
 },
 "nbformat": 4,
 "nbformat_minor": 2
}
