{
 "cells": [
  {
   "cell_type": "code",
   "execution_count": 1,
   "metadata": {},
   "outputs": [
    {
     "name": "stdout",
     "output_type": "stream",
     "text": [
      "[1]\tvalid_0's l2: 0.634102\tvalid_0's l1: 0.668869\n",
      "Training until validation scores don't improve for 5 rounds.\n",
      "[2]\tvalid_0's l2: 0.578099\tvalid_0's l1: 0.640101\n",
      "[3]\tvalid_0's l2: 0.523698\tvalid_0's l1: 0.61188\n",
      "[4]\tvalid_0's l2: 0.478051\tvalid_0's l1: 0.585863\n",
      "[5]\tvalid_0's l2: 0.433568\tvalid_0's l1: 0.560275\n",
      "[6]\tvalid_0's l2: 0.396381\tvalid_0's l1: 0.536746\n",
      "[7]\tvalid_0's l2: 0.360013\tvalid_0's l1: 0.513542\n",
      "[8]\tvalid_0's l2: 0.329734\tvalid_0's l1: 0.492383\n",
      "[9]\tvalid_0's l2: 0.300005\tvalid_0's l1: 0.471332\n",
      "[10]\tvalid_0's l2: 0.274334\tvalid_0's l1: 0.452114\n",
      "[11]\tvalid_0's l2: 0.250101\tvalid_0's l1: 0.433007\n",
      "[12]\tvalid_0's l2: 0.229268\tvalid_0's l1: 0.415599\n",
      "[13]\tvalid_0's l2: 0.209526\tvalid_0's l1: 0.398265\n",
      "[14]\tvalid_0's l2: 0.192867\tvalid_0's l1: 0.38266\n",
      "[15]\tvalid_0's l2: 0.177276\tvalid_0's l1: 0.367862\n",
      "[16]\tvalid_0's l2: 0.164057\tvalid_0's l1: 0.353613\n",
      "[17]\tvalid_0's l2: 0.152192\tvalid_0's l1: 0.341076\n",
      "[18]\tvalid_0's l2: 0.140228\tvalid_0's l1: 0.327384\n",
      "[19]\tvalid_0's l2: 0.130435\tvalid_0's l1: 0.314737\n",
      "[20]\tvalid_0's l2: 0.120367\tvalid_0's l1: 0.301727\n",
      "Did not meet early stopping. Best iteration is:\n",
      "[20]\tvalid_0's l2: 0.120367\tvalid_0's l1: 0.301727\n",
      "The rmse of prediction is: 0.3469392663016479\n",
      "Feature importances: [0, 5, 29, 21]\n",
      "Best parameters found by grid search are: {'learning_rate': 0.1, 'n_estimators': 40}\n"
     ]
    },
    {
     "name": "stderr",
     "output_type": "stream",
     "text": [
      "/usr/local/lib/python3.7/site-packages/lightgbm/__init__.py:46: UserWarning: Starting from version 2.2.1, the library file in distribution wheels for macOS is built by the Apple Clang (Xcode_8.3.3) compiler.\n",
      "This means that in case of installing LightGBM from PyPI via the ``pip install lightgbm`` command, you don't need to install the gcc compiler anymore.\n",
      "Instead of that, you need to install the OpenMP library, which is required for running LightGBM on the system with the Apple Clang compiler.\n",
      "You can install the OpenMP library by the following command: ``brew install libomp``.\n",
      "  \"You can install the OpenMP library by the following command: ``brew install libomp``.\", UserWarning)\n",
      "/usr/local/lib/python3.7/site-packages/sklearn/model_selection/_split.py:1978: FutureWarning: The default value of cv will change from 3 to 5 in version 0.22. Specify it explicitly to silence this warning.\n",
      "  warnings.warn(CV_WARNING, FutureWarning)\n"
     ]
    }
   ],
   "source": [
    "import lightgbm as lgb\n",
    "from sklearn.metrics import mean_squared_error\n",
    "from sklearn.model_selection import GridSearchCV\n",
    "from sklearn.datasets import load_iris\n",
    "from sklearn.model_selection import train_test_split\n",
    " \n",
    "# 加载数据\n",
    "iris = load_iris()\n",
    "data = iris.data\n",
    "target = iris.target\n",
    "X_train, X_test, y_train, y_test = train_test_split(data, target, test_size=0.2)\n",
    " \n",
    "# 创建模型，训练模型\n",
    "gbm = lgb.LGBMRegressor(objective='regression', num_leaves=31, learning_rate=0.05, n_estimators=20)\n",
    "gbm.fit(X_train, y_train, eval_set=[(X_test, y_test)], eval_metric='l1', early_stopping_rounds=5)\n",
    " \n",
    "# 测试机预测\n",
    "y_pred = gbm.predict(X_test, num_iteration=gbm.best_iteration_)\n",
    " \n",
    "# 模型评估\n",
    "print('The rmse of prediction is:', mean_squared_error(y_test, y_pred) ** 0.5)\n",
    " \n",
    "# feature importances\n",
    "print('Feature importances:', list(gbm.feature_importances_))\n",
    " \n",
    "# 网格搜索，参数优化\n",
    "estimator = lgb.LGBMRegressor(num_leaves=31)\n",
    "param_grid = {\n",
    "    'learning_rate': [0.01, 0.1, 1],\n",
    "    'n_estimators': [20, 40]\n",
    "}\n",
    "gbm = GridSearchCV(estimator, param_grid)\n",
    "gbm.fit(X_train, y_train)\n",
    "print('Best parameters found by grid search are:', gbm.best_params_)"
   ]
  },
  {
   "cell_type": "code",
   "execution_count": null,
   "metadata": {},
   "outputs": [],
   "source": []
  }
 ],
 "metadata": {
  "kernelspec": {
   "display_name": "Python 3",
   "language": "python",
   "name": "python3"
  },
  "language_info": {
   "codemirror_mode": {
    "name": "ipython",
    "version": 3
   },
   "file_extension": ".py",
   "mimetype": "text/x-python",
   "name": "python",
   "nbconvert_exporter": "python",
   "pygments_lexer": "ipython3",
   "version": "3.7.3"
  }
 },
 "nbformat": 4,
 "nbformat_minor": 2
}
