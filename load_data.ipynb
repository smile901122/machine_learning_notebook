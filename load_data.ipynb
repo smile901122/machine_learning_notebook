{
 "cells": [
  {
   "cell_type": "markdown",
   "metadata": {},
   "source": [
    "## 处理数据"
   ]
  },
  {
   "cell_type": "markdown",
   "metadata": {},
   "source": [
    "### 数据格式"
   ]
  },
  {
   "cell_type": "markdown",
   "metadata": {},
   "source": [
    "I'm a example 1. \\t label_1 \\n\n",
    "<br>\n",
    "I'm a example 1. \\t label_2 \\n"
   ]
  },
  {
   "cell_type": "code",
   "execution_count": 16,
   "metadata": {},
   "outputs": [],
   "source": [
    "data_file = './data/example_data.txt'"
   ]
  },
  {
   "cell_type": "code",
   "execution_count": 17,
   "metadata": {},
   "outputs": [],
   "source": [
    "class LoadData:\n",
    "    def __init__(self):\n",
    "        self.data = []\n",
    "        self.labels = []\n",
    "        self.label_classes = {}\n",
    "        self.label2id = {}\n",
    "        self.id2label = {}\n",
    "        \n",
    "    def get_data(self):\n",
    "        return self.data\n",
    "    \n",
    "    def get_label(self):\n",
    "        return self.labels\n",
    "    \n",
    "    def get_label_classes(self):\n",
    "        return self.label_classes\n",
    "    \n",
    "    def get_label2id(self):\n",
    "        return self.label2id\n",
    "    \n",
    "    def get_id2label(self):\n",
    "        return self.id2label\n",
    "        \n",
    "    def read_data(self, data_file):\n",
    "        with open(data_file, 'r') as f:\n",
    "            for line in f:\n",
    "                arr = line.split('\\t')\n",
    "                if len(arr) != 2:\n",
    "                    continue\n",
    "                data, label = arr[0].strip(), arr[1].strip()\n",
    "                self.data.append(data)\n",
    "                self.labels.append(label)\n",
    "                \n",
    "        # 统计类别信息\n",
    "        self.count_label_classes()\n",
    "        self.build_label_dict()\n",
    "        \n",
    "                \n",
    "    def count_label_classes(self):\n",
    "        for item in self.labels:\n",
    "            if self.label_classes.get(item):\n",
    "                self.label_classes[item] += 1\n",
    "            else:\n",
    "                self.label_classes[item] = 1\n",
    "                \n",
    "    def build_label_dict(self):\n",
    "        for index, label in enumerate(list(self.label_classes.keys())):\n",
    "            self.label2id[label] = index\n",
    "            \n",
    "        for label, index in self.label2id.items():\n",
    "            self.id2label[index] = label\n",
    "        "
   ]
  },
  {
   "cell_type": "code",
   "execution_count": 18,
   "metadata": {},
   "outputs": [
    {
     "name": "stdout",
     "output_type": "stream",
     "text": [
      "['hello, world!', \"i'm sad.\", 'may name is LiLei.']\n",
      "['happy', 'sad', 'netral']\n"
     ]
    }
   ],
   "source": [
    "d_p = LoadData()\n",
    "d_p.read_data(data_file)\n",
    "print(d_p.get_data())\n",
    "print(d_p.get_label())"
   ]
  },
  {
   "cell_type": "code",
   "execution_count": 19,
   "metadata": {},
   "outputs": [
    {
     "name": "stdout",
     "output_type": "stream",
     "text": [
      "{'happy': 1, 'sad': 1, 'netral': 1}\n",
      "{'happy': 0, 'sad': 1, 'netral': 2}\n",
      "{0: 'happy', 1: 'sad', 2: 'netral'}\n"
     ]
    }
   ],
   "source": [
    "print(d_p.get_label_classes())\n",
    "print(d_p.get_label2id())\n",
    "print(d_p.get_id2label())"
   ]
  },
  {
   "cell_type": "code",
   "execution_count": null,
   "metadata": {},
   "outputs": [],
   "source": []
  }
 ],
 "metadata": {
  "kernelspec": {
   "display_name": "Python 3",
   "language": "python",
   "name": "python3"
  },
  "language_info": {
   "codemirror_mode": {
    "name": "ipython",
    "version": 3
   },
   "file_extension": ".py",
   "mimetype": "text/x-python",
   "name": "python",
   "nbconvert_exporter": "python",
   "pygments_lexer": "ipython3",
   "version": "3.7.3"
  }
 },
 "nbformat": 4,
 "nbformat_minor": 2
}
