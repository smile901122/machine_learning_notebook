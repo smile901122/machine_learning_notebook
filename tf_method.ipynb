{
 "cells": [
  {
   "cell_type": "markdown",
   "metadata": {},
   "source": [
    "## tf.random.normal & tf.concat"
   ]
  },
  {
   "cell_type": "code",
   "execution_count": 17,
   "metadata": {},
   "outputs": [
    {
     "name": "stdout",
     "output_type": "stream",
     "text": [
      "tf.Tensor(\n",
      "[[[-0.10222221]\n",
      "  [-0.02582106]]], shape=(1, 2, 1), dtype=float32)\n",
      "tf.Tensor(\n",
      "[[[-0.10222221]\n",
      "  [-0.02582106]\n",
      "  [-0.10222221]\n",
      "  [-0.02582106]]], shape=(1, 4, 1), dtype=float32)\n"
     ]
    }
   ],
   "source": [
    "import tensorflow as tf\n",
    "\n",
    "\n",
    "a = tf.random.normal((1, 2, 1))\n",
    "print(a)\n",
    "b = tf.concat((a, a), axis=1)\n",
    "print(b)"
   ]
  },
  {
   "cell_type": "markdown",
   "metadata": {},
   "source": [
    "## tf.transpose"
   ]
  },
  {
   "cell_type": "code",
   "execution_count": 20,
   "metadata": {
    "scrolled": true
   },
   "outputs": [
    {
     "name": "stdout",
     "output_type": "stream",
     "text": [
      "tf.Tensor(\n",
      "[[[-0.10222221]]\n",
      "\n",
      " [[-0.02582106]]], shape=(2, 1, 1), dtype=float32)\n",
      "tf.Tensor([[[-0.10222221 -0.02582106]]], shape=(1, 1, 2), dtype=float32)\n"
     ]
    }
   ],
   "source": [
    "c = tf.transpose(a, [1, 0, 2])\n",
    "print(c)\n",
    "c = tf.transpose(a, [2, 0, 1])\n",
    "print(c)"
   ]
  },
  {
   "cell_type": "code",
   "execution_count": 24,
   "metadata": {},
   "outputs": [
    {
     "data": {
      "text/plain": [
       "<tf.Variable 'Variable:0' shape=(4, 3) dtype=float32, numpy=\n",
       "array([[ 0.0858694 ,  0.12292894,  0.01292848],\n",
       "       [ 0.04902585,  0.1227443 , -0.1501322 ],\n",
       "       [-0.1658654 ,  0.01572886, -0.1265556 ],\n",
       "       [-0.07827426,  0.05712532, -0.08203812]], dtype=float32)>"
      ]
     },
     "execution_count": 24,
     "metadata": {},
     "output_type": "execute_result"
    }
   ],
   "source": [
    "tf.Variable(tf.random.normal([4, 3], stddev=0.1))"
   ]
  },
  {
   "cell_type": "markdown",
   "metadata": {},
   "source": [
    "## tf.tensordot"
   ]
  },
  {
   "cell_type": "code",
   "execution_count": 29,
   "metadata": {},
   "outputs": [
    {
     "name": "stdout",
     "output_type": "stream",
     "text": [
      "tf.Tensor(\n",
      "[[[-0.41193035  0.26789182 -1.4850671   1.3785921 ]\n",
      "  [-0.01416892  0.8437764  -0.6722354   1.5075653 ]\n",
      "  [-0.08367111  0.20505868 -0.2167157  -0.01219765]]\n",
      "\n",
      " [[-2.8171031  -0.93070906 -1.0103035  -0.58459383]\n",
      "  [-0.661697   -0.54233503 -1.1685046   1.3818896 ]\n",
      "  [-1.0055088   0.7730256  -1.1667318  -0.23853359]]], shape=(2, 3, 4), dtype=float32)\n",
      "tf.Tensor(\n",
      "[[-1.1642122  -0.5438389   0.42585605 -0.21038017 -0.6888776 ]\n",
      " [ 0.65211034  0.94501084  1.013366    0.18263787  0.17209421]\n",
      " [ 0.8046385   0.53817683 -0.0487936  -0.12879546  0.38653234]\n",
      " [ 0.40791658  0.9856485  -1.4904532  -0.25930944  0.643263  ]], shape=(4, 5), dtype=float32)\n",
      "tf.Tensor(\n",
      "[[[ 2.1677803e-02  1.0367630e+00 -1.8862159e+00 -3.0622898e-02\n",
      "    6.4264303e-01]\n",
      "  [ 6.4078534e-01  1.9292314e+00 -1.3651344e+00 -1.4725864e-01\n",
      "    8.6488986e-01]\n",
      "  [ 5.1778391e-02  1.1063231e-01  2.0092201e-01  8.6129181e-02\n",
      "    1.3146426e-03]]\n",
      "\n",
      " [[ 1.6213863e+00 -4.6740574e-01 -1.2222233e+00  7.0439309e-01\n",
      "    1.0139071e+00]\n",
      "  [ 4.0165301e-02  5.8053935e-01 -2.8339977e+00 -1.6768193e-01\n",
      "    7.9974914e-01]\n",
      "  [ 6.3862437e-01  4.1433400e-01  7.6760805e-01  5.6484663e-01\n",
      "    2.2128624e-01]]], shape=(2, 3, 5), dtype=float32)\n"
     ]
    }
   ],
   "source": [
    "a = tf.random.normal((2, 3, 4))\n",
    "print(a)\n",
    "b = tf.random.normal((4, 5))\n",
    "print(b)\n",
    "c = tf.tensordot(a, b, axes=1)\n",
    "print(c)"
   ]
  },
  {
   "cell_type": "markdown",
   "metadata": {},
   "source": [
    "## tf.nn.softmax"
   ]
  },
  {
   "cell_type": "code",
   "execution_count": 30,
   "metadata": {},
   "outputs": [
    {
     "name": "stdout",
     "output_type": "stream",
     "text": [
      "tf.Tensor(\n",
      "[[[ 1.1523829   0.3964312  -0.37968293]\n",
      "  [-1.0782012   0.05612426  0.77199376]]], shape=(1, 2, 3), dtype=float32)\n",
      "tf.Tensor(\n",
      "[[[0.59324217 0.2785649  0.12819299]\n",
      "  [0.09550976 0.29694703 0.60754323]]], shape=(1, 2, 3), dtype=float32)\n"
     ]
    }
   ],
   "source": [
    "a = tf.random.normal((1, 2, 3))\n",
    "print(a)\n",
    "b = tf.nn.softmax(a)\n",
    "print(b)"
   ]
  },
  {
   "cell_type": "markdown",
   "metadata": {},
   "source": [
    "## tf.reduce_sum"
   ]
  },
  {
   "cell_type": "code",
   "execution_count": 35,
   "metadata": {},
   "outputs": [
    {
     "name": "stdout",
     "output_type": "stream",
     "text": [
      "tf.Tensor([ 6 15 24], shape=(3,), dtype=int32)\n"
     ]
    }
   ],
   "source": [
    "a = [[1, 2, 3], [4, 5, 6], [7, 8, 9]]\n",
    "b = tf.reduce_sum(a, axis=-1)\n",
    "print(b)"
   ]
  },
  {
   "cell_type": "code",
   "execution_count": null,
   "metadata": {},
   "outputs": [],
   "source": []
  }
 ],
 "metadata": {
  "kernelspec": {
   "display_name": "Python 3",
   "language": "python",
   "name": "python3"
  },
  "language_info": {
   "codemirror_mode": {
    "name": "ipython",
    "version": 3
   },
   "file_extension": ".py",
   "mimetype": "text/x-python",
   "name": "python",
   "nbconvert_exporter": "python",
   "pygments_lexer": "ipython3",
   "version": "3.7.3"
  }
 },
 "nbformat": 4,
 "nbformat_minor": 2
}
